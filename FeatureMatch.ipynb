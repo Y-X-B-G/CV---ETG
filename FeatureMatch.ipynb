{
 "cells": [
  {
   "cell_type": "code",
   "execution_count": 1,
   "metadata": {},
   "outputs": [],
   "source": [
    "import numpy as np\n",
    "from collections import defaultdict\n",
    "from matplotlib import pyplot as plt\n",
    "import cv2 as cv\n",
    "import os"
   ]
  },
  {
   "cell_type": "code",
   "execution_count": null,
   "metadata": {},
   "outputs": [],
   "source": [
    "sample = cv.imread(\"pattern matching test.webp\")\n",
    "assert sample is not None\n",
    "samplecopy = sample.copy()\n",
    "\n",
    "BulletSprites: defaultdict[str, list[np.ndarray]] = defaultdict(list)\n",
    "\n",
    "for root, dirs, files in os.walk(\"DUMPsprites/BulletManSpriteCollection\", topdown=True):\n",
    "    for file in files:\n",
    "        path: os.path = os.path.join(root, file)\n",
    "        if os.path.exists(path):\n",
    "            spriteData: np.ndarray = cv.imread(str(path))\n",
    "            if spriteData is not None:\n",
    "                BulletSprites[root].append(spriteData)"
   ]
  },
  {
   "cell_type": "code",
   "execution_count": null,
   "metadata": {},
   "outputs": [],
   "source": [
    "orb = cv.ORB_create()"
   ]
  }
 ],
 "metadata": {
  "kernelspec": {
   "display_name": "Python 3",
   "language": "python",
   "name": "python3"
  },
  "language_info": {
   "codemirror_mode": {
    "name": "ipython",
    "version": 3
   },
   "file_extension": ".py",
   "mimetype": "text/x-python",
   "name": "python",
   "nbconvert_exporter": "python",
   "pygments_lexer": "ipython3",
   "version": "3.12.4"
  }
 },
 "nbformat": 4,
 "nbformat_minor": 2
}
