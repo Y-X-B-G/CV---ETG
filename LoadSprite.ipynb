{
 "cells": [
  {
   "cell_type": "code",
   "execution_count": 1,
   "id": "7cdc5626",
   "metadata": {
    "execution": {
     "iopub.execute_input": "2025-01-07T16:03:24.770341Z",
     "iopub.status.busy": "2025-01-07T16:03:24.769899Z",
     "iopub.status.idle": "2025-01-07T16:03:25.161885Z",
     "shell.execute_reply": "2025-01-07T16:03:25.160235Z"
    },
    "papermill": {
     "duration": 0.397501,
     "end_time": "2025-01-07T16:03:25.164232",
     "exception": false,
     "start_time": "2025-01-07T16:03:24.766731",
     "status": "completed"
    },
    "tags": []
   },
   "outputs": [],
   "source": [
    "import numpy as np\n",
    "from collections import defaultdict\n",
    "import cv2 as cv\n",
    "import os"
   ]
  },
  {
   "cell_type": "code",
   "execution_count": 2,
   "id": "9e17a464",
   "metadata": {
    "execution": {
     "iopub.execute_input": "2025-01-07T16:03:25.169141Z",
     "iopub.status.busy": "2025-01-07T16:03:25.168788Z",
     "iopub.status.idle": "2025-01-07T16:03:25.174151Z",
     "shell.execute_reply": "2025-01-07T16:03:25.173035Z"
    },
    "papermill": {
     "duration": 0.009674,
     "end_time": "2025-01-07T16:03:25.176019",
     "exception": false,
     "start_time": "2025-01-07T16:03:25.166345",
     "status": "completed"
    },
    "tags": []
   },
   "outputs": [],
   "source": [
    "enterTheGungeonSprites: defaultdict[str, list[np.ndarray]] = defaultdict(default_factory=list)\n",
    "\n",
    "for root, dirs, files in os.walk(\"DUMPsprites\", topdown=True):\n",
    "    for file in files:\n",
    "        path: os.path = os.path.join(root, file)\n",
    "        spriteData: np.ndarray = cv.imread(str(path))\n",
    "        enterTheGungeonSprites[root].append(spriteData)"
   ]
  }
 ],
 "metadata": {
  "kaggle": {
   "accelerator": "none",
   "dataSources": [],
   "isGpuEnabled": false,
   "isInternetEnabled": true,
   "language": "python",
   "sourceType": "notebook"
  },
  "kernelspec": {
   "display_name": "Python 3",
   "language": "python",
   "name": "python3"
  },
  "language_info": {
   "codemirror_mode": {
    "name": "ipython",
    "version": 3
   },
   "file_extension": ".py",
   "mimetype": "text/x-python",
   "name": "python",
   "nbconvert_exporter": "python",
   "pygments_lexer": "ipython3",
   "version": "3.10.12"
  },
  "papermill": {
   "default_parameters": {},
   "duration": 3.217335,
   "end_time": "2025-01-07T16:03:25.697326",
   "environment_variables": {},
   "exception": null,
   "input_path": "__notebook__.ipynb",
   "output_path": "__notebook__.ipynb",
   "parameters": {},
   "start_time": "2025-01-07T16:03:22.479991",
   "version": "2.6.0"
  }
 },
 "nbformat": 4,
 "nbformat_minor": 5
}
