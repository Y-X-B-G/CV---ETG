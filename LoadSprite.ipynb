{
 "cells": [
  {
   "cell_type": "code",
   "execution_count": 1,
   "id": "7cdc5626",
   "metadata": {
    "execution": {
     "iopub.execute_input": "2025-01-07T16:03:24.770341Z",
     "iopub.status.busy": "2025-01-07T16:03:24.769899Z",
     "iopub.status.idle": "2025-01-07T16:03:25.161885Z",
     "shell.execute_reply": "2025-01-07T16:03:25.160235Z"
    },
    "papermill": {
     "duration": 0.397501,
     "end_time": "2025-01-07T16:03:25.164232",
     "exception": false,
     "start_time": "2025-01-07T16:03:24.766731",
     "status": "completed"
    },
    "tags": []
   },
   "outputs": [],
   "source": [
    "import numpy as np\n",
    "from collections import defaultdict\n",
    "import cv2 as cv\n",
    "import os"
   ]
  },
  {
   "cell_type": "code",
   "execution_count": null,
   "id": "9e17a464",
   "metadata": {
    "execution": {
     "iopub.execute_input": "2025-01-07T16:03:25.169141Z",
     "iopub.status.busy": "2025-01-07T16:03:25.168788Z",
     "iopub.status.idle": "2025-01-07T16:03:25.174151Z",
     "shell.execute_reply": "2025-01-07T16:03:25.173035Z"
    },
    "papermill": {
     "duration": 0.009674,
     "end_time": "2025-01-07T16:03:25.176019",
     "exception": false,
     "start_time": "2025-01-07T16:03:25.166345",
     "status": "completed"
    },
    "tags": []
   },
   "outputs": [
    {
     "name": "stdout",
     "output_type": "stream",
     "text": [
      "97\n"
     ]
    }
   ],
   "source": [
    "enterTheGungeonSprites: defaultdict[str, list[np.ndarray]] = defaultdict(list)\n",
    "\n",
    "for root, dirs, files in os.walk(\"DUMPsprites\", topdown=True):\n",
    "    for file in files:\n",
    "        path: os.path = os.path.join(root, file)\n",
    "        if os.path.exists(path):\n",
    "            spriteData: np.ndarray = cv.imread(str(path))\n",
    "            if spriteData is not None:\n",
    "                enterTheGungeonSprites[root].append(spriteData)"
   ]
  },
  {
   "cell_type": "code",
   "execution_count": null,
   "id": "8c229758",
   "metadata": {},
   "outputs": [],
   "source": [
    "count = 0\n",
    "for folder in enterTheGungeonSprites:\n",
    "    for file in folder: \n",
    "        count += 1\n",
    "\n",
    "print(count)"
   ]
  }
 ],
 "metadata": {
  "kaggle": {
   "accelerator": "none",
   "dataSources": [],
   "isGpuEnabled": false,
   "isInternetEnabled": true,
   "language": "python",
   "sourceType": "notebook"
  },
  "kernelspec": {
   "display_name": "Python 3",
   "language": "python",
   "name": "python3"
  },
  "language_info": {
   "codemirror_mode": {
    "name": "ipython",
    "version": 3
   },
   "file_extension": ".py",
   "mimetype": "text/x-python",
   "name": "python",
   "nbconvert_exporter": "python",
   "pygments_lexer": "ipython3",
   "version": "3.12.4"
  },
  "papermill": {
   "default_parameters": {},
   "duration": 3.217335,
   "end_time": "2025-01-07T16:03:25.697326",
   "environment_variables": {},
   "exception": null,
   "input_path": "__notebook__.ipynb",
   "output_path": "__notebook__.ipynb",
   "parameters": {},
   "start_time": "2025-01-07T16:03:22.479991",
   "version": "2.6.0"
  }
 },
 "nbformat": 4,
 "nbformat_minor": 5
}
